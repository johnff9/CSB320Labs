{
 "cells": [
  {
   "cell_type": "markdown",
   "metadata": {},
   "source": [
    "### Lab 6 - Random Forests\n",
    "\n",
    "The mpg_clean.csv dataset contains information on miles per gallon (mpg) and engine size for cars sold from 1970 through 1982. Dataframe X contains the input features mpg, cylinders, displacement, horsepower, weight, acceleration, and model_year. Dataframe y contains the output feature origin.\n",
    "\n",
    "Initialize and fit a random forest classifier with a user-input number of decision trees, estimator, a user-input number of features considered at each split, max_features, and a random state of 123.  \n",
    "Calculate the prediction accuracy for the model.  \n",
    "Read the documentation for the permutation_importance function from scikit-learn's inspection module.  \n",
    "Calculate the permutation importance using the default parameters and a random state of 123.\n",
    "\n",
    "```python\n",
    "Ex: When the input is\n",
    "\n",
    "5\n",
    "3\n",
    "the output is:\n",
    "\n",
    "0.9796\n",
    "        feature  permutation importance\n",
    "2  displacement                0.453571\n",
    "0           mpg                0.160204\n",
    "4        weight                0.133673\n",
    "3    horsepower                0.107653\n",
    "5  acceleration                0.057143\n",
    "6    model_year                0.051531\n",
    "1     cylinders                0.012245\n",
    "```\n"
   ]
  },
  {
   "cell_type": "code",
   "execution_count": 7,
   "metadata": {},
   "outputs": [],
   "source": [
    "import numpy as np\n",
    "import pandas as pd\n",
    "\n",
    "from sklearn.ensemble import RandomForestClassifier\n",
    "from sklearn.inspection import permutation_importance\n",
    "\n"
   ]
  },
  {
   "cell_type": "code",
   "execution_count": null,
   "metadata": {},
   "outputs": [],
   "source": [
    "df = pd.read_csv('data/mpg_clean.csv')"
   ]
  },
  {
   "cell_type": "code",
   "execution_count": 9,
   "metadata": {},
   "outputs": [],
   "source": [
    "# Create a dataframe X containing the input features\n",
    "X = df.drop(columns=['name', 'origin'])\n",
    "# Create a dataframe y containing the output feature origin\n",
    "y = df[['origin']]\n",
    "\n",
    "# Get user-input n_estimators and max_features\n",
    "estimators = int(input())\n",
    "max_features = int(input())"
   ]
  },
  {
   "cell_type": "code",
   "execution_count": null,
   "metadata": {},
   "outputs": [],
   "source": [
    "# Initialize and fit a random forest classifier with user-input number of decision trees, \n",
    "# user-input number of features considered at each split, and a random state of 123\n",
    "rfModel = # Your code here\n",
    "# Your code here"
   ]
  },
  {
   "cell_type": "code",
   "execution_count": null,
   "metadata": {},
   "outputs": [],
   "source": [
    "# Calculate prediction accuracy\n",
    "score = # Your code here\n",
    "print(round(score, 4))\n",
    "\n",
    "# Calculate the permutation importance using the default parameters and a random state of 123\n",
    "result = # Your code here\n",
    "\n",
    "# Variable importance table\n",
    "importance_table = pd.DataFrame(\n",
    "    data={'feature': rfModel.feature_names_in_,'permutation importance': result.importances_mean}\n",
    ").sort_values('permutation importance', ascending=False)\n",
    "\n",
    "print(importance_table)"
   ]
  }
 ],
 "metadata": {
  "kernelspec": {
   "display_name": "CSB320_Labs",
   "language": "python",
   "name": "python3"
  },
  "language_info": {
   "codemirror_mode": {
    "name": "ipython",
    "version": 3
   },
   "file_extension": ".py",
   "mimetype": "text/x-python",
   "name": "python",
   "nbconvert_exporter": "python",
   "pygments_lexer": "ipython3",
   "version": "3.10.16"
  }
 },
 "nbformat": 4,
 "nbformat_minor": 2
}

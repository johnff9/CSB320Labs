{
 "cells": [
  {
   "cell_type": "markdown",
   "metadata": {},
   "source": [
    "### Lab 6 - Boosting\n",
    "\n",
    "The mpg.csv dataset contains information on miles per gallon (mpg) and engine size for cars sold from 1970 through 1982.\n",
    "\n",
    "Create a dataframe X containing the input features cylinders, weight, and mpg.\n",
    "Create a dataframe y containing the output feature origin.  \n",
    "Initialize and fit an adaptive boosting classifier with a user-input learning rate lr and a random state of 123.  \n",
    "Initialize and fit a gradient boosting classifier with a user-input learning rate lr and a random state of 123.  \n",
    "Calculate the prediction accuracy for each model.\n",
    "\n",
    "```python\n",
    "0.7688\n",
    "0.995\n",
    "```\n"
   ]
  },
  {
   "cell_type": "code",
   "execution_count": 5,
   "metadata": {},
   "outputs": [],
   "source": [
    "import numpy as np\n",
    "import pandas as pd\n",
    "from sklearn.ensemble import GradientBoostingClassifier\n",
    "from sklearn.ensemble import AdaBoostClassifier"
   ]
  },
  {
   "cell_type": "code",
   "execution_count": null,
   "metadata": {},
   "outputs": [],
   "source": [
    "# Read in the data from mpg.csv and save it as a dataframe called mpg"
   ]
  },
  {
   "cell_type": "code",
   "execution_count": null,
   "metadata": {},
   "outputs": [],
   "source": [
    "# Create a dataframe X containing cylinders, weight, and mpg\n",
    "# Your code here\n",
    "\n",
    "# Create a dataframe y containing origin\n",
    "# Your code here\n",
    "\n",
    "# Get user-input learning rate\n",
    "lr = float(input())\n"
   ]
  },
  {
   "cell_type": "code",
   "execution_count": null,
   "metadata": {},
   "outputs": [],
   "source": [
    "# Initialize and fit a gradient boosting classifier with the user-input learning rate and a \n",
    "# random state of 123\n",
    "gradientBoostModel = # Your code here\n",
    "# Your code here"
   ]
  },
  {
   "cell_type": "code",
   "execution_count": null,
   "metadata": {},
   "outputs": [],
   "source": [
    "# Calculate the prediction accuracy for the adaptive boosting classifier\n",
    "adaBoostScore = # Your code here\n",
    "print(round(adaBoostScore, 4))\n",
    "\n",
    "# Calculate the prediction accuracy for the gradient boosting classifier\n",
    "gradientBoostScore = # Your code here\n",
    "print(round(gradientBoostScore, 4))"
   ]
  }
 ],
 "metadata": {
  "kernelspec": {
   "display_name": "CSB320_Labs",
   "language": "python",
   "name": "python3"
  },
  "language_info": {
   "codemirror_mode": {
    "name": "ipython",
    "version": 3
   },
   "file_extension": ".py",
   "mimetype": "text/x-python",
   "name": "python",
   "nbconvert_exporter": "python",
   "pygments_lexer": "ipython3",
   "version": "3.10.16"
  }
 },
 "nbformat": 4,
 "nbformat_minor": 2
}

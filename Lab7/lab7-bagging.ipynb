{
 "cells": [
  {
   "cell_type": "markdown",
   "metadata": {},
   "source": [
    "### Lab 6 - Bagging\n",
    "\n",
    "The msleep_clean dataset contains information on sleep habits for 47 mammals. Features include length of REM sleep, time spent awake, brain weight, and body weight.\n",
    "\n",
    "Create a dataframe X containing the features awake, brainwt, and bodywt, in that order.  \n",
    "Create a dataframe y containing sleep_rem.  \n",
    "Initialize and fit a bagging regressor with 30 base estimators, a random state of 10, and oob_score=True.  \n",
    "Ex: If 10 base estimators are used, the output should be:\n",
    "\n",
    "```python\n",
    "0.2322\n",
    "[3.26   2.92   1.0333 2.3333 0.8    1.325  2.56   2.2667 0.8    2.38\n",
    " 3.     0.5333 3.175  2.9667 0.7    0.65   1.825  2.2667 2.     1.\n",
    " 0.6    1.1667 1.5    3.1    2.     1.9    4.15   1.3    0.75   1.2\n",
    " 2.025  1.45   3.0286 2.72   0.5    2.0333 1.12   2.     2.65   1.65\n",
    " 2.6667 2.3    1.45   0.58   2.625  1.6    0.74   1.3   ]\n",
    "```\n"
   ]
  },
  {
   "cell_type": "code",
   "execution_count": 4,
   "metadata": {},
   "outputs": [],
   "source": [
    "import numpy as np\n",
    "import pandas as pd\n",
    "from sklearn.ensemble import BaggingRegressor\n"
   ]
  },
  {
   "cell_type": "code",
   "execution_count": null,
   "metadata": {},
   "outputs": [],
   "source": [
    "df = pd.read_csv('data/msleep_clean.csv')"
   ]
  },
  {
   "cell_type": "code",
   "execution_count": null,
   "metadata": {},
   "outputs": [],
   "source": [
    "# Create a dataframe X containing the features awake, brainwt, and bodywt, in that order\n",
    "# Your code here\n",
    "\n",
    "# Create a dataframe y containing sleep_rem\n",
    "# Your code here"
   ]
  },
  {
   "cell_type": "code",
   "execution_count": null,
   "metadata": {},
   "outputs": [],
   "source": [
    "# Initialize and fit bagging regressor with 30 base estimators, a random state of 10, and oob_score=True\n",
    "sleepModel = # Your code here\n",
    "# Your code here"
   ]
  },
  {
   "cell_type": "code",
   "execution_count": null,
   "metadata": {},
   "outputs": [],
   "source": [
    "# Calculate out-of-bag accuracy\n",
    "print(np.round(sleepModel.oob_score_, 4))\n",
    "\n",
    "# Calculate predictions from out-of-bag estimate\n",
    "print(np.round(sleepModel.oob_prediction_, 4))"
   ]
  }
 ],
 "metadata": {
  "kernelspec": {
   "display_name": "CSB320_Labs",
   "language": "python",
   "name": "python3"
  },
  "language_info": {
   "codemirror_mode": {
    "name": "ipython",
    "version": 3
   },
   "file_extension": ".py",
   "mimetype": "text/x-python",
   "name": "python",
   "nbconvert_exporter": "python",
   "pygments_lexer": "ipython3",
   "version": "3.10.16"
  }
 },
 "nbformat": 4,
 "nbformat_minor": 2
}

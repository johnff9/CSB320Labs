{
 "cells": [
  {
   "cell_type": "markdown",
   "metadata": {},
   "source": [
    "### Lab 1\n",
    "\n",
    "The dataset fg_attempts.csv contains data on field goal distance and outcome (whether or not the kick was successful) during the 2012 NFL seasons.\n",
    "\n",
    "- Create a dataframe X with input features Distance and ScoreDiffPreKick.\n",
    "- Create a dataframe y with output feature Outcome.\n",
    "- Flatten y into an array called yArray using np.ravel().\n",
    "- Initialize a logistic regression model using LogisticRegression().\n",
    "- Fit the model to the input and flattened output features in X and yArray.\n",
    "- Create a new dataframe XNew with user-input values for Distance and ScoreDiffPreKick.\n",
    "- Use the fitted logistic regression model to predict the outcome from the new data.\n",
    "- Determine the accuracy of a fitted logistic regression classification model.\n",
    "\n",
    "Ex: If the new dataframe contains Distance = 25 and ScoreDiffPreKick = 8, the program input is:  \n",
    "25\n",
    "8\n",
    "\n",
    "and the program output is:  \n",
    "0.8604651162790697\n"
   ]
  },
  {
   "cell_type": "code",
   "execution_count": 9,
   "metadata": {},
   "outputs": [],
   "source": [
    "# Import the necessary modules\n",
    "import numpy as np\n",
    "import pandas as pd\n",
    "from sklearn.linear_model import LogisticRegression\n"
   ]
  },
  {
   "cell_type": "code",
   "execution_count": 10,
   "metadata": {},
   "outputs": [],
   "source": [
    "# Read in the file fg_attempt.csv\n",
    "field_goal = pd.read_csv('data/fg_attempt.csv')"
   ]
  },
  {
   "cell_type": "code",
   "execution_count": 11,
   "metadata": {},
   "outputs": [],
   "source": [
    "# Create a dataframe X containing 'Distance' and 'ScoreDiffPreKick'\n",
    "X = field_goal[['Distance', 'ScoreDiffPreKick']]\n",
    "# Create a dataframe y containing 'Outcome'\n",
    "y = field_goal[['Outcome']]\n",
    "\n",
    "# Flatten y into an array\n",
    "yArray = np.ravel(y)"
   ]
  },
  {
   "cell_type": "code",
   "execution_count": 15,
   "metadata": {},
   "outputs": [],
   "source": [
    "# Initialize a LogisticRegression() model\n",
    "logisticModel = LogisticRegression()\n",
    "\n",
    "# Fit the model\n",
    "logisticModel.fit(X, yArray)\n",
    "\n",
    "# Input feature values for a sample instance\n",
    "Distance = float(input())\n",
    "ScoreDiffPreKick = float(input())\n",
    "\n",
    "# Create a new dataframe with user-input Distance and ScoreDiffPreKick\n",
    "XNew = pd.DataFrame([[Distance, ScoreDiffPreKick]], columns=['Distance', 'ScoreDiffPreKick'])"
   ]
  },
  {
   "cell_type": "code",
   "execution_count": 16,
   "metadata": {},
   "outputs": [
    {
     "name": "stdout",
     "output_type": "stream",
     "text": [
      "[1]\n",
      "0.8604651162790697\n"
     ]
    }
   ],
   "source": [
    "# Predict the outcome from the new data\n",
    "pred = logisticModel.predict(XNew)\n",
    "print(pred)\n",
    "\n",
    "# Determine the accuracy of the model logisticModel\n",
    "score = logisticModel.score(X, yArray)\n",
    "print(score)"
   ]
  }
 ],
 "metadata": {
  "kernelspec": {
   "display_name": "CSB320_Labs",
   "language": "python",
   "name": "python3"
  },
  "language_info": {
   "codemirror_mode": {
    "name": "ipython",
    "version": 3
   },
   "file_extension": ".py",
   "mimetype": "text/x-python",
   "name": "python",
   "nbconvert_exporter": "python",
   "pygments_lexer": "ipython3",
   "version": "3.9.22"
  }
 },
 "nbformat": 4,
 "nbformat_minor": 2
}

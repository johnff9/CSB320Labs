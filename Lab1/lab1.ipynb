{
 "cells": [
  {
   "cell_type": "markdown",
   "metadata": {},
   "source": [
    "### Lab 1\n",
    "\n",
    "The dataset fg_attempts.csv contains data on field goal distance and outcome (whether or not the kick was successful) during the 2012 NFL seasons.\n",
    "\n",
    "- Create a dataframe X with input features Distance and ScoreDiffPreKick.\n",
    "- Create a dataframe y with output feature Outcome.\n",
    "- Flatten y into an array called yArray using np.ravel().\n",
    "- Initialize a logistic regression model using LogisticRegression().\n",
    "- Fit the model to the input and flattened output features in X and yArray.\n",
    "- Create a new dataframe XNew with user-input values for Distance and ScoreDiffPreKick.\n",
    "- Use the fitted logistic regression model to predict the outcome from the new data.\n",
    "- Determine the accuracy of a fitted logistic regression classification model.\n",
    "\n",
    "Ex: If the new dataframe contains Distance = 25 and ScoreDiffPreKick = 8, the program input is:  \n",
    "25\n",
    "8\n",
    "\n",
    "and the program output is:  \n",
    "0.8604651162790697\n"
   ]
  },
  {
   "cell_type": "code",
   "execution_count": null,
   "metadata": {},
   "outputs": [],
   "source": [
    "# Import the necessary modules\n",
    "import numpy as np\n",
    "import pandas as pd\n",
    "from sklearn.linear_model import LogisticRegression\n"
   ]
  },
  {
   "cell_type": "code",
   "execution_count": null,
   "metadata": {},
   "outputs": [],
   "source": [
    "# Read in the file fg_attempt.csv\n",
    "field_goal = pd.read_csv('data/fg_attempt.csv')"
   ]
  },
  {
   "cell_type": "code",
   "execution_count": null,
   "metadata": {},
   "outputs": [],
   "source": [
    "# Create a dataframe X containing 'Distance' and 'ScoreDiffPreKick'\n",
    "X = # Your code here\n",
    "# Create a dataframe y containing 'Outcome'\n",
    "y = # Your code here\n",
    "\n",
    "# Flatten y into an array\n",
    "# Your code here"
   ]
  },
  {
   "cell_type": "code",
   "execution_count": null,
   "metadata": {},
   "outputs": [],
   "source": [
    "# Initialize a LogisticRegression() model\n",
    "logisticModel = # Your code here\n",
    "\n",
    "# Fit the model\n",
    "# Your code here\n",
    "\n",
    "# Input feature values for a sample instance\n",
    "Distance = float(input())\n",
    "ScoreDiffPreKick = float(input())\n",
    "\n",
    "# Create a new dataframe with user-input Distance and ScoreDiffPreKick\n",
    "XNew = # Your code here"
   ]
  },
  {
   "cell_type": "code",
   "execution_count": null,
   "metadata": {},
   "outputs": [],
   "source": [
    "# Predict the outcome from the new data\n",
    "pred = # Your code here\n",
    "print(pred)\n",
    "\n",
    "# Determine the accuracy of the model logisticModel\n",
    "score = # Your code here\n",
    "print(score)"
   ]
  },
  {
   "cell_type": "markdown",
   "metadata": {},
   "source": []
  }
 ],
 "metadata": {
  "kernelspec": {
   "display_name": "CSB320_Labs",
   "language": "python",
   "name": "python3"
  },
  "language_info": {
   "name": "python",
   "version": "3.10.16"
  }
 },
 "nbformat": 4,
 "nbformat_minor": 2
}

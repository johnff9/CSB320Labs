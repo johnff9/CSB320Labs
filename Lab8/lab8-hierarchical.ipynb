{
 "cells": [
  {
   "cell_type": "markdown",
   "metadata": {},
   "source": [
    "### Lab 7 - Hierarchical Clustering\n",
    "\n",
    "The healthy_lifestyle dataset contains information on lifestyle measures such as amount of sunshine, pollution, and happiness levels for 44 major cities around the world. Apply agglomerative clustering to the cities' number of hours of sunshine and happiness levels using both sklearn and SciPy.\n",
    "\n",
    "Import the needed packages for agglomerative clustering from sklearn and SciPy.\n",
    "Initialize and fit an agglomerative clustering model using sklearn's AgglomerativeClustering() function. Use the user-defined number of clusters and ward linkage.  \n",
    "Add cluster labels to the healthy dataframe.  \n",
    "Calculate the distances between all instances using SciPy's pdist() function.  \n",
    "Convert the distance matrix to a square matrix using SciPy's squareform() function.  \n",
    "Define a clustering model with ward linkage using SciPy's linkage() function.\n",
    "\n",
    "```python\n",
    "Ex: If the input is:\n",
    "\n",
    "4\n",
    "the output should be:\n",
    "\n",
    "   sunshine_hours  happiness_levels  labels\n",
    "0          1858.0              7.44       3\n",
    "1          2636.0              7.22       0\n",
    "2          1884.0              7.29       3\n",
    "3          1821.0              7.35       3\n",
    "4          1630.0              7.64       3\n",
    "First five rows of the linkage matrix from SciPy:\n",
    " [[39. 40.  0.  2.]\n",
    " [28. 43.  0.  3.]\n",
    " [ 7. 18.  0.  2.]\n",
    " [ 0.  3.  0.  2.]\n",
    " [ 8. 42.  0.  2.]]\n",
    "```\n"
   ]
  },
  {
   "cell_type": "code",
   "execution_count": null,
   "metadata": {},
   "outputs": [],
   "source": [
    "import pandas as pd\n",
    "import seaborn as sns\n",
    "import numpy as np\n",
    "import matplotlib.pyplot as plt\n",
    "\n",
    "# Import needed sklearn packages\n",
    "# Your code here\n",
    "\n",
    "# Import needed scipy packages\n",
    "# Your code here\n",
    "\n",
    "# Silence warning\n",
    "import warnings\n",
    "warnings.filterwarnings('ignore')\n"
   ]
  },
  {
   "cell_type": "code",
   "execution_count": null,
   "metadata": {},
   "outputs": [],
   "source": [
    "healthy = pd.read_csv('data/healthy_lifestyle.csv')\n",
    "healthy = healthy.dropna(subset=['sunshine_hours', 'happiness_levels'])"
   ]
  },
  {
   "cell_type": "code",
   "execution_count": null,
   "metadata": {},
   "outputs": [],
   "source": [
    "# Input the number of clusters\n",
    "number = int(input(\"Enter the number of clusters: \"))\n",
    "\n",
    "# Define input features\n",
    "X = healthy[['sunshine_hours', 'happiness_levels']]"
   ]
  },
  {
   "cell_type": "code",
   "execution_count": null,
   "metadata": {},
   "outputs": [],
   "source": [
    "# Use StandardScaler() to standardize input features\n",
    "scaler = StandardScaler()\n",
    "X_scaled = scaler.fit_transform(X)\n",
    "X_scaled = pd.DataFrame(X_scaled, columns=['sunshine_hours', 'happiness_levels'])"
   ]
  },
  {
   "cell_type": "code",
   "execution_count": null,
   "metadata": {},
   "outputs": [],
   "source": [
    "# Initialize and fit an agglomerative clustering model using ward linkage in scikit-learn, with a user-defined\n",
    "# number of clusters\n",
    "# Your code here\n",
    "\n",
    "# Add cluster labels to the healthy dataframe\n",
    "healthy['labels'] = clustersHealthySklearnFit.labels_\n",
    "print(healthy[['sunshine_hours', 'happiness_levels', 'labels']].head())\n",
    "\n",
    "# Perform agglomerative clustering using SciPy\n",
    "# Calculate the distances between all instances\n",
    "# Your code here\n",
    "\n",
    "# Convert the distance matrix to a square matrix\n",
    "# Your code here\n",
    "\n",
    "# Define a clustering model with ward linkage\n",
    "clustersHealthyScipy = # Your code here\n",
    "\n",
    "print('First five rows of the linkage matrix from SciPy:\\n', np.round(clustersHealthyScipy[:5, :], 0))\n"
   ]
  },
  {
   "cell_type": "code",
   "execution_count": null,
   "metadata": {},
   "outputs": [],
   "source": [
    "# Plot the clusters using matplotlib\n",
    "plt.figure(figsize=(8, 6))\n",
    "# Create Scatterplot here\n",
    "plt.title('Agglomerative Clustering of Healthy Lifestyle Data')\n",
    "plt.xlabel('Standardized Sunshine Hours')\n",
    "plt.ylabel('Standardized Happiness Levels')\n",
    "plt.colorbar(label='Cluster')\n",
    "plt.show()"
   ]
  },
  {
   "cell_type": "code",
   "execution_count": null,
   "metadata": {},
   "outputs": [],
   "source": []
  }
 ],
 "metadata": {
  "kernelspec": {
   "display_name": "CSB320_Labs",
   "language": "python",
   "name": "python3"
  },
  "language_info": {
   "codemirror_mode": {
    "name": "ipython",
    "version": 3
   },
   "file_extension": ".py",
   "mimetype": "text/x-python",
   "name": "python",
   "nbconvert_exporter": "python",
   "pygments_lexer": "ipython3",
   "version": "3.10.16"
  }
 },
 "nbformat": 4,
 "nbformat_minor": 2
}

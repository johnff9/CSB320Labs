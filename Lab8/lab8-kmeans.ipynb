{
 "cells": [
  {
   "cell_type": "markdown",
   "metadata": {},
   "source": [
    "### Lab 7 - K-Means Clustering\n",
    "\n",
    "The healthy_lifestyle dataset contains information on lifestyle measures such as amount of sunshine, pollution, and happiness levels for 44 major cities around the world. Apply k-means clustering to the cities' number of hours of sunshine and happiness levels.\n",
    "\n",
    "Import the needed packages for clustering.  \n",
    "Initialize and fit a k-means clustering model using sklearn's Kmeans() function.  \n",
    "Use the user-defined number of clusters, init='random', n_init=10, random_state=123, and algorithm='elkan'.  \n",
    "Find the cluster centroids and inertia.  \n",
    "Create a matplotlib scatterplot that will show the clusters in different colors and the centroids, similar to the image below.\n",
    "\n",
    "```python\n",
    "Ex: If the input is:\n",
    "\n",
    "4\n",
    "the output should be:\n",
    "\n",
    "Centroids: [[ 0.8294  0.2562]\n",
    " [ 1.3106 -1.887 ]\n",
    " [-0.9471  0.8281]\n",
    " [-0.6372 -0.7943]]\n",
    "Inertia: 16.4991\n",
    "```\n"
   ]
  },
  {
   "cell_type": "markdown",
   "metadata": {},
   "source": [
    "![My Image](../images/kmeans.png)\n"
   ]
  },
  {
   "cell_type": "code",
   "execution_count": null,
   "metadata": {},
   "outputs": [],
   "source": [
    "import pandas as pd\n",
    "import numpy as np\n",
    "import matplotlib.pyplot as plt\n",
    "from sklearn.preprocessing import StandardScaler\n",
    "from sklearn.cluster import KMeans"
   ]
  },
  {
   "cell_type": "code",
   "execution_count": null,
   "metadata": {},
   "outputs": [],
   "source": [
    "healthy = pd.read_csv('data/healthy_lifestyle.csv')"
   ]
  },
  {
   "cell_type": "code",
   "execution_count": 4,
   "metadata": {},
   "outputs": [],
   "source": [
    "# Input the number of clusters\n",
    "number = int(input())"
   ]
  },
  {
   "cell_type": "code",
   "execution_count": 5,
   "metadata": {},
   "outputs": [],
   "source": [
    "# Use StandardScaler() to standardize input features\n",
    "X = healthy[['sunshine_hours', 'happiness_levels']]\n",
    "scaler = StandardScaler()\n",
    "X = scaler.fit_transform(X)\n",
    "X = pd.DataFrame(X, columns=['sunshine_hours', 'happiness_levels'])\n",
    "X = X.dropna()"
   ]
  },
  {
   "cell_type": "code",
   "execution_count": null,
   "metadata": {},
   "outputs": [],
   "source": [
    "# Initialize a k-means clustering algorithm with a user-defined number of clusters, init='random', n_init=10, \n",
    "# random_state=123, and algorithm='elkan'\n",
    "# Your code here\n",
    "\n",
    "# Fit the algorithm to the input features\n",
    "# Your code here"
   ]
  },
  {
   "cell_type": "code",
   "execution_count": null,
   "metadata": {},
   "outputs": [],
   "source": [
    "# Find and print the cluster centroids\n",
    "centroid = # Your code here\n",
    "print(\"Centroids:\", np.round(centroid,4))\n",
    "\n",
    "# Find and print the cluster inertia\n",
    "inertia = # Your code here\n",
    "print(\"Inertia:\", np.round(inertia,4))"
   ]
  },
  {
   "cell_type": "code",
   "execution_count": null,
   "metadata": {},
   "outputs": [],
   "source": [
    "# Add cluster labels to the dataset\n",
    "X['Cluster'] = # Your code here\n",
    "\n",
    "# Plot the clusters\n",
    "plt.figure(figsize=(8, 6))\n",
    "# Scatter plot for X here\n",
    "# Add in centroids here\n",
    "plt.title('K-Means Clustering of Healthy Lifestyle Data')\n",
    "plt.xlabel('Standardized Sunshine Hours')\n",
    "plt.ylabel('Standardized Happiness Levels')\n",
    "plt.legend()\n",
    "plt.show()"
   ]
  }
 ],
 "metadata": {
  "kernelspec": {
   "display_name": "CSB320_Labs",
   "language": "python",
   "name": "python3"
  },
  "language_info": {
   "codemirror_mode": {
    "name": "ipython",
    "version": 3
   },
   "file_extension": ".py",
   "mimetype": "text/x-python",
   "name": "python",
   "nbconvert_exporter": "python",
   "pygments_lexer": "ipython3",
   "version": "3.10.16"
  }
 },
 "nbformat": 4,
 "nbformat_minor": 2
}

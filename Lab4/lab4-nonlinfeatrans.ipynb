{
 "cells": [
  {
   "cell_type": "markdown",
   "metadata": {},
   "source": [
    "### Lab 4 - Non-linear Transformations\n",
    "\n",
    "The concrete.csv dataset contains the actual concrete compressive state of a mixture of concrete, as well as 8 input features including the age and ingredients of the concrete. Use the multidimensional scaling, isometric mapping, and t-distributed Stochastic Neighbor Embedding functions in scikit-learn to reduce the dimensions of the input data from 8 to a user-defined number.\n",
    "\n",
    "Fit an MDS model with a user defined number of components and random_state=42 to the scaled input data.  \n",
    "Find the data points in the lower-dimensional space.  \n",
    "Fit an isomap model with a user defined number of components and n_neighbors=12 to the scaled input data.  \n",
    "Find the data points in the lower-dimensional space.  \n",
    "Fit a t-SNE model with a user defined number of components, perplexity=20.0, and random_state=42 to the scaled input data. Note that attempting to fit a t-SNE model with 4 or more components will produce an error with this dataset.  \n",
    "Find the data points in the lower-dimensional space.\n"
   ]
  },
  {
   "cell_type": "markdown",
   "metadata": {},
   "source": [
    "Ex: If the input is:\n",
    "\n",
    "3\n",
    "the output should\n",
    "\n",
    "```python\n",
    "MDS:\n",
    "            0         1         2\n",
    "0  -0.323619  0.337300 -0.243742\n",
    "1   0.368182  0.865394 -0.425329\n",
    "2   0.173464  0.117193  0.376817\n",
    "3   0.847059  0.210746 -0.192474\n",
    "4  -0.141277 -0.648080 -0.003270\n",
    "..       ...       ...       ...\n",
    "95 -0.251650 -0.064676  0.403497\n",
    "96 -0.328020 -0.519130  0.573444\n",
    "97 -0.222203 -0.149501  0.386516\n",
    "98  0.280597  0.665305  0.072196\n",
    "99 -0.377909  0.423461 -0.003958\n",
    "\n",
    "[100 rows x 3 columns]\n",
    "Isomap:\n",
    "            0         1         2\n",
    "0   0.853346  0.278827  0.446175\n",
    "1   1.479026 -0.622153 -0.592321\n",
    "2  -0.334127  0.218949 -0.491067\n",
    "3   0.506818 -0.444658 -0.326461\n",
    "4  -0.704224 -0.331547  0.311945\n",
    "..       ...       ...       ...\n",
    "95 -0.830448  0.381366 -0.266774\n",
    "96 -1.181630  0.055462 -0.076360\n",
    "97 -0.802728  0.407335 -0.078233\n",
    "98  0.750130 -0.017479 -0.568712\n",
    "99  0.711112  0.519129 -0.068265\n",
    "\n",
    "[100 rows x 3 columns]\n",
    "t-SNE:\n",
    "              0          1          2\n",
    "0   -64.411285  13.220640 -90.494133\n",
    "1   -73.550003 -24.959478  68.480309\n",
    "2     3.865538  37.700974  -8.657567\n",
    "3   -40.425606 -91.529442  -8.135440\n",
    "4    74.334534 -71.017380 -36.943825\n",
    "..         ...        ...        ...\n",
    "95   10.367200  78.635117  35.728336\n",
    "96   75.422302  75.830429  25.621828\n",
    "97  -65.651093  44.792404  82.748833\n",
    "98 -117.708496 -10.700598   1.162808\n",
    "99  -89.536987  -3.719092 -63.132824\n",
    "\n",
    "[100 rows x 3 columns]\n",
    "```\n"
   ]
  },
  {
   "cell_type": "code",
   "execution_count": 4,
   "metadata": {},
   "outputs": [],
   "source": [
    "# Load the necessary libraries\n",
    "import pandas as pd\n",
    "import numpy as np\n",
    "from sklearn.pipeline import Pipeline\n",
    "from sklearn.manifold import MDS, Isomap, TSNE\n",
    "from sklearn.preprocessing import MinMaxScaler\n",
    "\n",
    "# Silence warning\n",
    "import warnings\n",
    "warnings.filterwarnings('ignore')"
   ]
  },
  {
   "cell_type": "code",
   "execution_count": null,
   "metadata": {},
   "outputs": [],
   "source": [
    "concrete = pd.read_csv('data/concrete.csv').sample(n=100, random_state=123)"
   ]
  },
  {
   "cell_type": "code",
   "execution_count": null,
   "metadata": {},
   "outputs": [],
   "source": [
    "# Input the number of principal components\n",
    "nComp = int(input())"
   ]
  },
  {
   "cell_type": "code",
   "execution_count": null,
   "metadata": {},
   "outputs": [],
   "source": [
    "\n",
    "X = concrete.drop(['strength'], axis=1)\n",
    "y = concrete[['strength']]\n",
    "\n",
    "scaler = MinMaxScaler()\n",
    "\n",
    "# Fit an MDS model with a user defined number of components and random_state=42 \n",
    "# to scaled input data\n",
    "# Your code here\n",
    "\n",
    "# Find the data points in lower-dimensional space\n",
    "mdsDataPoints = # Your code here\n",
    "\n",
    "# Display the data points in lower-dimensional space\n",
    "print('MDS:\\n', pd.DataFrame(mdsDataPoints))\n"
   ]
  },
  {
   "cell_type": "code",
   "execution_count": null,
   "metadata": {},
   "outputs": [],
   "source": [
    "# Fit an isomap model with a user defined number of components and n_neighbors=12 \n",
    "# to scaled input data\n",
    "# Your code here\n",
    "\n",
    "# Find the data points in lower-dimensional space\n",
    "isomapDataPoints = # Your code here\n",
    "\n",
    "# Display the data points in lower-dimensional space\n",
    "print('Isomap:\\n', pd.DataFrame(isomapDataPoints))\n"
   ]
  },
  {
   "cell_type": "code",
   "execution_count": null,
   "metadata": {},
   "outputs": [],
   "source": [
    "# Fit a t-SNE model with a user defined number of components, perplexity=20.0, and random_state=42 \n",
    "# to scaled input data\n",
    "# Your code here\n",
    "\n",
    "# Find the data points in lower-dimensional space\n",
    "tsneDataPoints = # Your code here\n",
    "\n",
    "# Display the data points in lower-dimensional space\n",
    "print('t-SNE:\\n', pd.DataFrame(tsneDataPoints))"
   ]
  }
 ],
 "metadata": {
  "kernelspec": {
   "display_name": "CSB320_Labs",
   "language": "python",
   "name": "python3"
  },
  "language_info": {
   "codemirror_mode": {
    "name": "ipython",
    "version": 3
   },
   "file_extension": ".py",
   "mimetype": "text/x-python",
   "name": "python",
   "nbconvert_exporter": "python",
   "pygments_lexer": "ipython3",
   "version": "3.10.16"
  }
 },
 "nbformat": 4,
 "nbformat_minor": 2
}

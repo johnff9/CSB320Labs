{
 "cells": [
  {
   "cell_type": "markdown",
   "metadata": {},
   "source": [
    "### Lab 4 - Feature Transformation\n",
    "\n",
    "The homes.csv dataset contains information for houses sold in King County, Washington in 2014. Features include sales price, square footage, number of bedrooms and bathrooms, and the number of floors. The priceFloor dataframe contains the features Price and Floor. The school dataframe contains the feature School.\n",
    "\n",
    "Define a standardization scaler to transform values and apply the scaler to the priceFloor data.  \n",
    "Define a normalization scaler to transform values and apply the scaler to the priceFloor data.  \n",
    "Define an ordinal encoder using OrdinalEncoder(). Apply the ordinal encoder to the school data. Add the encoded labels as a column labeled encoding to the school dataframe.  \n",
    "Create and fit a discretizer with equal weights and 3 bins to the Floor feature from the priceFloor data. Reshape the feature to an array with dimensions (76,1).\n"
   ]
  },
  {
   "cell_type": "markdown",
   "metadata": {},
   "source": [
    "```python\n",
    "\n",
    "The output should be:\n",
    "\n",
    "Standardized data:\n",
    "        Price     Floor\n",
    "0   1.071227 -2.504029\n",
    "1   0.220305  0.111864\n",
    "2   0.902711  0.367766\n",
    "3   0.654108 -1.466202\n",
    "4  -0.013282 -0.437853\n",
    "..       ...       ...\n",
    "71 -1.448170  0.216120\n",
    "72 -1.681757 -0.523154\n",
    "73 -0.280238 -0.807490\n",
    "74  0.153566  0.272988\n",
    "75 -0.555536 -0.390463\n",
    "\n",
    "[76 rows x 2 columns]\n",
    "Normalized data:\n",
    "        Price     Floor\n",
    "0   0.660441  0.001374\n",
    "1   0.487267  0.380495\n",
    "2   0.626146  0.417582\n",
    "3   0.575552  0.151786\n",
    "4   0.439728  0.300824\n",
    "..       ...       ...\n",
    "71  0.147708  0.395604\n",
    "72  0.100170  0.288462\n",
    "73  0.385399  0.247253\n",
    "74  0.473684  0.403846\n",
    "75  0.329372  0.307692\n",
    "\n",
    "[76 rows x 2 columns]\n",
    "Encoded data:\n",
    "      School  encoding\n",
    "0     Adams       0.0\n",
    "1    Parker       4.0\n",
    "2   Redwood       5.0\n",
    "3     Crest       1.0\n",
    "4     Crest       1.0\n",
    "..      ...       ...\n",
    "71  Redwood       5.0\n",
    "72   Parker       4.0\n",
    "73  Redwood       5.0\n",
    "74  Redwood       5.0\n",
    "75   Edison       2.0\n",
    "\n",
    "[76 rows x 2 columns]\n",
    "Bin widths:\n",
    " [1.44       1.92533333 2.41066667 2.896     ]\n",
    "```\n"
   ]
  },
  {
   "cell_type": "code",
   "execution_count": 2,
   "metadata": {},
   "outputs": [],
   "source": [
    "import pandas as pd\n",
    "import numpy as np\n",
    "from sklearn.preprocessing import StandardScaler\n",
    "from sklearn.preprocessing import MinMaxScaler\n",
    "from sklearn.preprocessing import OrdinalEncoder\n",
    "from sklearn.preprocessing import KBinsDiscretizer\n"
   ]
  },
  {
   "cell_type": "code",
   "execution_count": null,
   "metadata": {},
   "outputs": [],
   "source": [
    "homes = pd.read_csv('data/homes.csv')\n",
    "priceFloor = homes[['Price', 'Floor']]\n",
    "school = homes[['School']]"
   ]
  },
  {
   "cell_type": "code",
   "execution_count": null,
   "metadata": {},
   "outputs": [],
   "source": [
    "\n",
    "# Define a standardization scaler to transform values\n",
    "# Your code here\n",
    "\n",
    "# Apply scaler to the priceFloor data\n",
    "scaled = # Your code here\n",
    "\n",
    "homes_standardized = pd.DataFrame(scaled, columns=['Price','Floor'])\n",
    "print('Standardized data: \\n', homes_standardized)\n",
    "\n",
    "# Define a normalization scaler to transform values\n",
    "# Your code here\n",
    "\n",
    "# Apply scaler to the priceFloor data\n",
    "normalized = # Your code here\n",
    "\n",
    "homes_normalized = pd.DataFrame(normalized, columns=['Price','Floor'])\n",
    "print('Normalized data: \\n', homes_normalized)\n"
   ]
  },
  {
   "cell_type": "code",
   "execution_count": null,
   "metadata": {},
   "outputs": [],
   "source": [
    "# Define the OrdinalEncoder() function\n",
    "ordinal_encoder = OrdinalEncoder()\n",
    "# Create a dataframe of the ordinal encoder function fit to the school data, with the column labeled encoding\n",
    "# Your code here\n",
    "\n",
    "# Join the new column to the school data\n",
    "school_encoded = # Your code here\n",
    "\n",
    "print('Encoded data: \\n', school_encoded)\n",
    "\n",
    "# Create a discretizer with equal weights and 3 bins\n",
    "discretizer_eqwidth = # Your code here\n",
    "\n",
    "# Fit the discretizer to the Floor feature from the priceFloor data. \n",
    "# Reshape the feature to an array with dimensions (76,1).\n",
    "# Your code here\n",
    "\n",
    "print('Bin widths: \\n', discretizer_eqwidth.bin_edges_[0])"
   ]
  },
  {
   "cell_type": "code",
   "execution_count": null,
   "metadata": {},
   "outputs": [],
   "source": []
  },
  {
   "cell_type": "code",
   "execution_count": null,
   "metadata": {},
   "outputs": [],
   "source": []
  }
 ],
 "metadata": {
  "kernelspec": {
   "display_name": "CSB320_Labs",
   "language": "python",
   "name": "python3"
  },
  "language_info": {
   "codemirror_mode": {
    "name": "ipython",
    "version": 3
   },
   "file_extension": ".py",
   "mimetype": "text/x-python",
   "name": "python",
   "nbconvert_exporter": "python",
   "pygments_lexer": "ipython3",
   "version": "3.10.16"
  }
 },
 "nbformat": 4,
 "nbformat_minor": 2
}

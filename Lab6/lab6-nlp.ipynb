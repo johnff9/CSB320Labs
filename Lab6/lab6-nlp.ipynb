{
 "cells": [
  {
   "cell_type": "markdown",
   "metadata": {},
   "source": [
    "### Amazon Reviews Dataset\n",
    "\n",
    "This is a dataset of Amazon Reviews and one column has the actual text we want to examine. Follow the tasks below to do so and perform sentiment analysis on the text, creating a new column that displays either positive, negative, or neutral.\n"
   ]
  },
  {
   "cell_type": "markdown",
   "metadata": {},
   "source": [
    "### Task 1: Read in the dataset\n"
   ]
  },
  {
   "cell_type": "code",
   "execution_count": null,
   "metadata": {},
   "outputs": [],
   "source": [
    "import pandas as pd\n",
    "\n",
    "# TODO: Load the dataset (replace 'your_dataset.csv' with the actual file name)\n",
    "df = \n",
    "# Display the first few rows\n"
   ]
  },
  {
   "cell_type": "markdown",
   "metadata": {},
   "source": [
    "### Task 2: Clean the Text Data\n",
    "\n",
    "Remove unwanted characters, convert text to lowercase, and strip extra spaces.\n"
   ]
  },
  {
   "cell_type": "code",
   "execution_count": null,
   "metadata": {},
   "outputs": [],
   "source": [
    "import re\n",
    "\n",
    "def clean_text(text):\n",
    "    # TODO: Convert text to lowercase\n",
    "    \n",
    "    # TODO: Remove special characters and digits\n",
    "    \n",
    "    # TODO: Strip extra spaces\n",
    "    \n",
    "    return text\n",
    "\n",
    "# Apply cleaning function\n",
    "df['clean_text'] = "
   ]
  },
  {
   "cell_type": "markdown",
   "metadata": {},
   "source": [
    "### Task 3: Tokenize the Text\n",
    "\n",
    "Split text into individual words (tokens).\n"
   ]
  },
  {
   "cell_type": "code",
   "execution_count": null,
   "metadata": {},
   "outputs": [],
   "source": [
    "from nltk.tokenize import word_tokenize\n",
    "\n",
    "# TODO: Apply word tokenization\n",
    "df['tokens'] = \n",
    "print(df[['clean_text', 'tokens']].head())"
   ]
  },
  {
   "cell_type": "markdown",
   "metadata": {},
   "source": [
    "### Task 4: Remove Stopwords\n",
    "\n",
    "Eliminate common stopwords that do not contribute much meaning.\n"
   ]
  },
  {
   "cell_type": "code",
   "execution_count": null,
   "metadata": {},
   "outputs": [],
   "source": [
    "from nltk.corpus import stopwords\n",
    "\n",
    "stop_words = \n",
    "\n",
    "def remove_stopwords(tokens):\n",
    "    # TODO: Filter out stopwords\n",
    "\n",
    "# Apply stopword removal\n",
    "df['filtered_tokens'] = \n",
    "print(df[['tokens', 'filtered_tokens']].head())"
   ]
  },
  {
   "cell_type": "markdown",
   "metadata": {},
   "source": [
    "### Task 5: Convert Text into Numerical Representation\n",
    "\n",
    "Use TF-IDF (Term Frequency-Inverse Document Frequency) to convert text into a numerical format.\n"
   ]
  },
  {
   "cell_type": "code",
   "execution_count": null,
   "metadata": {},
   "outputs": [],
   "source": [
    "from sklearn.feature_extraction.text import TfidfVectorizer\n",
    "\n",
    "# TODO: Initialize TF-IDF Vectorizer\n",
    "\n",
    "# TODO: Fit and transform the text data\n",
    "\n",
    "print(X.shape)  # Display shape of transformed data"
   ]
  },
  {
   "cell_type": "markdown",
   "metadata": {},
   "source": [
    "### Task 6: Perform Basic Sentiment Analysis\n",
    "\n",
    "Classify text as positive or negative using a simple rule-based approach.\n",
    "For textblob, a polarity > 1 = Positive, polarity < 1 = negative and a polarity of 0 = neutral\n"
   ]
  },
  {
   "cell_type": "code",
   "execution_count": null,
   "metadata": {},
   "outputs": [],
   "source": [
    "from textblob import TextBlob\n",
    "\n",
    "def get_sentiment(text):\n",
    "    # TODO: Compute polarity score\n",
    "\n",
    "# Apply sentiment analysis\n",
    "df['sentiment'] = \n",
    "print(df[['clean_text', 'sentiment']].head())"
   ]
  }
 ],
 "metadata": {
  "kernelspec": {
   "display_name": "CSB320_Labs",
   "language": "python",
   "name": "python3"
  },
  "language_info": {
   "codemirror_mode": {
    "name": "ipython",
    "version": 3
   },
   "file_extension": ".py",
   "mimetype": "text/x-python",
   "name": "python",
   "nbconvert_exporter": "python",
   "pygments_lexer": "ipython3",
   "version": "3.10.16"
  }
 },
 "nbformat": 4,
 "nbformat_minor": 2
}

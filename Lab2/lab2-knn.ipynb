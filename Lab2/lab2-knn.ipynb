{
 "cells": [
  {
   "cell_type": "markdown",
   "metadata": {},
   "source": [
    "### Lab 2 - K-Nearest Neighbor\n",
    "\n",
    "The dataset SDSS contains 17 observational features and one class feature for 10000 deep sky objects observed by the Sloan Digital Sky Survey. Use sklearn's KNeighborsClassifier() function to perform kNN classification to classify each object by the object's redshift and u-g color.\n",
    "\n",
    "Import the necessary modules for kNN classification  \n",
    "Create dataframe X with features redshift and u_g  \n",
    "Create dataframe y with feature class  \n",
    "Initialize a kNN model with k=3  \n",
    "Fit the model using the training data  \n",
    "Find the predicted classes for the test data  \n",
    "Calculate the accuracy score using the test data  \n",
    "Ex: If the feature u is used rather than u_g, the output is:\n",
    "\n",
    "Accuracy score is about 0.984\n"
   ]
  },
  {
   "cell_type": "markdown",
   "metadata": {},
   "source": []
  },
  {
   "cell_type": "code",
   "execution_count": null,
   "metadata": {},
   "outputs": [],
   "source": [
    "# Import needed packages for classification\n",
    "# Your code here\n",
    "\n",
    "# Import packages for evaluation\n",
    "# Your code here"
   ]
  },
  {
   "cell_type": "code",
   "execution_count": null,
   "metadata": {},
   "outputs": [],
   "source": [
    "# Load the dataset\n",
    "skySurvey = pd.read_csv('data/SDSS.csv')"
   ]
  },
  {
   "cell_type": "code",
   "execution_count": null,
   "metadata": {},
   "outputs": [],
   "source": [
    "# Create a new feature from u - g\n",
    "skySurvey['u_g'] = skySurvey['u'] - skySurvey['g']\n",
    "\n",
    "# Create dataframe X with features redshift and u_g\n",
    "X = # Your code here\n",
    "\n",
    "# Create dataframe y with feature class\n",
    "y = # Your code here\n",
    "\n",
    "np.random.seed(42)\n",
    "\n",
    "# Split data into training and test sets\n",
    "X_train, X_test, y_train, y_test = train_test_split(X, y, test_size=0.3)\n",
    "\n",
    "# Initialize model with k=3\n",
    "skySurveyKnn = # Your code here\n",
    "\n",
    "# Fit model using X_train and y_train\n",
    "# Your code here"
   ]
  },
  {
   "cell_type": "code",
   "execution_count": null,
   "metadata": {},
   "outputs": [],
   "source": [
    "# Find the predicted classes for X_test\n",
    "y_pred = # Your code here\n",
    "\n",
    "# Calculate accuracy score\n",
    "score = # Your code here\n",
    "\n",
    "# Print accuracy score\n",
    "print('Accuracy score is ', end=\"\")\n",
    "print('%.3f' % score)"
   ]
  }
 ],
 "metadata": {
  "kernelspec": {
   "display_name": "CSB320_Labs",
   "language": "python",
   "name": "python3"
  },
  "language_info": {
   "name": "python",
   "version": "3.10.16"
  }
 },
 "nbformat": 4,
 "nbformat_minor": 2
}

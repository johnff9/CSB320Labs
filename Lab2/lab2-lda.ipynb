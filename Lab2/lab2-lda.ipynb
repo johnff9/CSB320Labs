{
 "cells": [
  {
   "cell_type": "markdown",
   "metadata": {},
   "source": [
    "### Lab 2 - Linear Discriminant Analysis\n",
    "\n",
    "The hawks.csv file contains body measurements including age, sex, wing, weight, bill length (culmen) and talon length (hallux) for a sample of hawks observed near Iowa City, Iowa. The data was collected by students and faculty at Cornell College over a 10-year period. There are three species represented in this dataset: Cooper's hawk, red-tailed hawk, and sharp-shinned hawk. Using the csv file hawks.csv and scikit-learn's LinearDiscriminantAnalysis() function, construct a linear discriminant analysis model to classify a hawk's species based on the hawk's wing, weight, and culmen.\n",
    "\n",
    "Import the necessary modules for linear discriminant analysis  \n",
    "Create dataframe X with features Wing, Weight, and Culmen  \n",
    "Create dataframe y with feature Species  \n",
    "Standardize the input features  \n",
    "Initialize a linear discriminant model with n_components=2  \n",
    "Fit the model  \n",
    "Print the discriminant intercepts and weight  \n",
    "Find the predicted species for the user-input standardized values for wing, weight, and culmen  \n",
    "Note: The predict() method can be used to find the prediction for a single instance with elements f1, f2… as predict([[f1, f2, ...]]).\n",
    "\n",
    "Ex: If the input is:\n",
    "\n",
    "1.1  \n",
    "-0.5  \n",
    "0.9  \n",
    "the output should be:\n",
    "\n",
    "[ -6.44709653 -4.41864135 -16.6109183 ]  \n",
    "[[-5.68553588  -3.29948557  -1.68649648]    \n",
    " [  4.19219327   1.65164801   5.36308861]    \n",
    " [ -7.78302592  -2.77968595 -11.46863915]]  \n",
    "Predicted species is ['RT']\n"
   ]
  },
  {
   "cell_type": "code",
   "execution_count": null,
   "metadata": {},
   "outputs": [],
   "source": [
    "# Import packages and functions\n",
    "# Your code here"
   ]
  },
  {
   "cell_type": "code",
   "execution_count": null,
   "metadata": {},
   "outputs": [],
   "source": [
    "# Input standardized feature values for a sample instance\n",
    "wing = float(input())\n",
    "weight = float(input())\n",
    "culmen = float(input())"
   ]
  },
  {
   "cell_type": "code",
   "execution_count": null,
   "metadata": {},
   "outputs": [],
   "source": [
    "# Load the Hawks dataset\n",
    "# Your code here"
   ]
  },
  {
   "cell_type": "code",
   "execution_count": null,
   "metadata": {},
   "outputs": [],
   "source": [
    "# Define input features and output features\n",
    "X = # Your code here\n",
    "y = # Your code here\n",
    "\n",
    "# Standardize input features\n",
    "# Your code here\n",
    "\n",
    "# Initialize a linear discriminant model\n",
    "# Your code here\n",
    "\n",
    "# Fit the model\n",
    "# Your code here\n",
    "\n",
    "# Discriminant intercepts\n",
    "intercept = # Your code here\n",
    "print(intercept)\n",
    "\n",
    "# Discriminant weights\n",
    "weights = # Your code here\n",
    "print(weights)"
   ]
  },
  {
   "cell_type": "code",
   "execution_count": null,
   "metadata": {},
   "outputs": [],
   "source": [
    "# Calculate prediction\n",
    "preds = # Your code here\n",
    "print(\"Predicted species is \", preds)"
   ]
  }
 ],
 "metadata": {
  "kernelspec": {
   "display_name": "CSB320_Labs",
   "language": "python",
   "name": "python3"
  },
  "language_info": {
   "codemirror_mode": {
    "name": "ipython",
    "version": 3
   },
   "file_extension": ".py",
   "mimetype": "text/x-python",
   "name": "python",
   "nbconvert_exporter": "python",
   "pygments_lexer": "ipython3",
   "version": "3.10.16"
  }
 },
 "nbformat": 4,
 "nbformat_minor": 2
}

{
 "cells": [
  {
   "cell_type": "markdown",
   "metadata": {},
   "source": [
    "### Lab 2 - Bayes\n",
    "\n",
    "The file SDSS contains 17 observational features and one class feature for 10000 deep sky objects observed by the Sloan Digital Sky Survey. Use sklearn's GaussianNB() function to perform Gaussian naive Bayes classification to classify each object by the object's redshift and u-g color.\n",
    "\n",
    "Import the necessary modules for Gaussian naive Bayes classification  \n",
    "Create dataframe X with features redshift and u_g  \n",
    "Create dataframe y with feature class  \n",
    "Initialize a Gaussian naive Bayes model with the default parameters  \n",
    "Fit the model  \n",
    "Calculate the accuracy score  \n",
    "Note: Use ravel() from numpy to flatten the second argument of GaussianNB.fit() into a 1-D array.\n",
    "\n",
    "Ex: If the feature u is used rather than u_g, the output is:\n",
    "\n",
    "Accuracy score is 0.987\n"
   ]
  },
  {
   "cell_type": "code",
   "execution_count": null,
   "metadata": {},
   "outputs": [],
   "source": [
    "# Import the necessary modules\n",
    "# Your code here\n"
   ]
  },
  {
   "cell_type": "code",
   "execution_count": null,
   "metadata": {},
   "outputs": [],
   "source": [
    "# Load the dataset\n",
    "skySurvey = # Your code here"
   ]
  },
  {
   "cell_type": "code",
   "execution_count": null,
   "metadata": {},
   "outputs": [],
   "source": [
    "# Create a new feature from u - g\n",
    "skySurvey['u_g'] = skySurvey['u'] - skySurvey['g']\n",
    "\n",
    "# Create dataframe X with features redshift and u_g\n",
    "X = # Your code here\n",
    "\n",
    "# Create dataframe y with feature class\n",
    "y = # Your code here\n",
    "\n",
    "# Initialize a Gaussian naive Bayes model\n",
    "skySurveyNBModel = # Your code here\n",
    "\n",
    "# Fit the model\n",
    "# Your code here\n",
    "\n"
   ]
  },
  {
   "cell_type": "code",
   "execution_count": null,
   "metadata": {},
   "outputs": [],
   "source": [
    "# Calculate the proportion of instances correctly classified\n",
    "score = # Your code here\n",
    "\n",
    "# Print accuracy score\n",
    "print('Accuracy score is ', end=\"\")\n",
    "print('%.3f' % score)"
   ]
  }
 ],
 "metadata": {
  "kernelspec": {
   "display_name": "CSB320_Labs",
   "language": "python",
   "name": "python3"
  },
  "language_info": {
   "name": "python",
   "version": "3.10.16"
  }
 },
 "nbformat": 4,
 "nbformat_minor": 2
}

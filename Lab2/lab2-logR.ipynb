{
 "cells": [
  {
   "cell_type": "markdown",
   "metadata": {},
   "source": [
    "### Lab 2 - Logistic Regression\n",
    "\n",
    "The nbaallelo_log file contains data on 126314 NBA games from 1947 to 2015. The dataset includes the features pts, elo_i, win_equiv, and game_result. Using the csv file nbaallelo_log.csv and scikit-learn's LogisticRegression() function, construct a logistic regression model to classify whether a team will win or lose a game based on the team's elo_i score.\n",
    "\n",
    "Create a binary feature win for game_result with 0 for L and 1 for W  \n",
    "Use the LogisticRegression() function with penalty='l2' to construct a logistic regression model with win as the target and elo_i as the predictor  \n",
    "Print the weights and intercept of the fitted model  \n",
    "Find the proportion of instances correctly classified  \n",
    "Note: Use ravel() from numpy to flatten the second argument of LogisticRegression.fit() into a 1-D array.\n",
    "\n",
    "Ex: If the program uses the file nbaallelo_small.csv, which contains 100 instances, the output is:\n",
    "\n",
    "w1: [[3.64194406e-06]]  \n",
    "w0: [-2.80257471e-09]  \n",
    "0.5\n"
   ]
  },
  {
   "cell_type": "code",
   "execution_count": null,
   "metadata": {},
   "outputs": [],
   "source": [
    "# Load nbaallelo_log.csv into a dataframe\n",
    "NBA = # Your code here"
   ]
  },
  {
   "cell_type": "code",
   "execution_count": null,
   "metadata": {},
   "outputs": [],
   "source": [
    "# Create binary feature for game_result with 0 for L and 1 for W\n",
    "NBA['win'] = # Your code here\n",
    "\n",
    "# Store relevant columns as variables\n",
    "X = NBA[['elo_i']]\n",
    "y = NBA[['win']]\n",
    "\n",
    "# Initialize and fit the logistic model using the LogisticRegression() function\n",
    "# Your code here"
   ]
  },
  {
   "cell_type": "code",
   "execution_count": null,
   "metadata": {},
   "outputs": [],
   "source": [
    "# Print the weights for the fitted model\n",
    "print('w1:', # Your code here)\n",
    "\n",
    "# Print the intercept of the fitted model\n",
    "print('w0:', # Your code here)\n",
    "\n",
    "# Find the proportion of instances correctly classified\n",
    "score = # Your code here\n",
    "print(round(score, 3))"
   ]
  }
 ],
 "metadata": {
  "kernelspec": {
   "display_name": "CSB320_Labs",
   "language": "python",
   "name": "python3"
  },
  "language_info": {
   "name": "python",
   "version": "3.10.16"
  }
 },
 "nbformat": 4,
 "nbformat_minor": 2
}

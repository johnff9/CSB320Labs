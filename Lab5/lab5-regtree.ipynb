{
 "cells": [
  {
   "cell_type": "markdown",
   "metadata": {},
   "source": [
    "### Lab 5 - Regression Tree\n",
    "\n",
    "The msleep_clean dataset contains information on sleep habits for 47 mammals. Features include length of REM sleep, time spent awake, brain weight, and body weight.\n",
    "\n",
    "Create a dataframe X containing the features awake, brainwt, and bodywt, in that order.  \n",
    "Create a dataframe y containing sleep_rem.  \n",
    "Initialize and fit a regression tree with max_depth=3, ccp_alpha=0.02, and random_state=123 to the training data.  \n",
    "Print the R-squared value for the testing set.  \n",
    "Ex: If ccp_alpha=0 is used, the output should be:\n",
    "\n",
    "```python\n",
    "0.36867242467112815\n",
    "|--- feature_0 <= 6.25\n",
    "|   |--- feature_1 <= 0.04\n",
    "|   |   |--- value: [3.90]\n",
    "|   |--- feature_1 >  0.04\n",
    "|   |   |--- value: [6.10]\n",
    "|--- feature_0 >  6.25\n",
    "|   |--- feature_0 <= 16.85\n",
    "|   |   |--- feature_1 <= 0.08\n",
    "|   |   |   |--- value: [2.15]\n",
    "|   |   |--- feature_1 >  0.08\n",
    "|   |   |   |--- value: [1.50]\n",
    "|   |--- feature_0 >  16.85\n",
    "|   |   |--- feature_0 <= 18.20\n",
    "|   |   |   |--- value: [1.13]\n",
    "|   |   |--- feature_0 >  18.20\n",
    "|   |   |   |--- value: [0.55]\n",
    "```\n"
   ]
  },
  {
   "cell_type": "code",
   "execution_count": 4,
   "metadata": {},
   "outputs": [],
   "source": [
    "import numpy as np\n",
    "import pandas as pd\n",
    "from sklearn.tree import DecisionTreeRegressor, export_text\n",
    "from sklearn.model_selection import train_test_split"
   ]
  },
  {
   "cell_type": "code",
   "execution_count": null,
   "metadata": {},
   "outputs": [],
   "source": [
    "sleep = pd.read_csv('data/msleep_clean.csv')"
   ]
  },
  {
   "cell_type": "code",
   "execution_count": null,
   "metadata": {},
   "outputs": [],
   "source": [
    "# Create a dataframe X containing the features awake, brainwt, and bodywt, in that order\n",
    "# Your code here\n",
    "\n",
    "# Output feature: sleep_rem\n",
    "# Your code here\n",
    "\n",
    "X_train, X_test, y_train, y_test = train_test_split(X, y, random_state=42)\n",
    "\n",
    "# Initialize the model with max_depth=3, ccp_alpha=0.02, and random_state=123\n",
    "DTRModel = # Your code here\n",
    "\n",
    "# Fit the model\n",
    "# Your code here"
   ]
  },
  {
   "cell_type": "code",
   "execution_count": null,
   "metadata": {},
   "outputs": [],
   "source": [
    "# Print the R-squared value for the testing set\n",
    "# Your code here\n",
    "\n",
    "# Print text summary of tree\n",
    "DTR_tree = export_text(DTRModel)\n",
    "print(DTR_tree)"
   ]
  }
 ],
 "metadata": {
  "kernelspec": {
   "display_name": "CSB320_Labs",
   "language": "python",
   "name": "python3"
  },
  "language_info": {
   "codemirror_mode": {
    "name": "ipython",
    "version": 3
   },
   "file_extension": ".py",
   "mimetype": "text/x-python",
   "name": "python",
   "nbconvert_exporter": "python",
   "pygments_lexer": "ipython3",
   "version": "3.10.16"
  }
 },
 "nbformat": 4,
 "nbformat_minor": 2
}

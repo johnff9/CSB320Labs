{
 "cells": [
  {
   "cell_type": "markdown",
   "metadata": {},
   "source": [
    "### Lab 5 - Support Vector Classifier\n",
    "\n",
    "The heart dataset contains 13 health-related attributes from 303 patients and one attribute denoting whether or not the patient has heart disease. Using the file heart.csv and scikit-learn's LinearSVC() function, fit a support vector classifier to predict whether a patient has heart disease based on other health attributes.\n",
    "\n",
    "Import the correct packages and functions.  \n",
    "Split the data into 75% training data and 25% testing data. Set random_state=123.  \n",
    "Initialize and fit a support vector classifier with C=0.2, a maximum of 500 iterations, and random_state=123.  \n",
    "Print the model weights.  \n",
    "Ex: If the program input is heart_small.csv, which contains 100 instances, the output is:\n",
    "\n",
    "```python\n",
    "0.6\n",
    "w0: [0.013]\n",
    "w1 and w2: [[ 0.361 -0.087]]\n",
    "```\n"
   ]
  },
  {
   "cell_type": "code",
   "execution_count": null,
   "metadata": {},
   "outputs": [],
   "source": [
    "# Import the necessary packages\n",
    "# Your code here"
   ]
  },
  {
   "cell_type": "code",
   "execution_count": null,
   "metadata": {},
   "outputs": [],
   "source": [
    "# Read in the data from heart.csv and save it as a dataframe called heart"
   ]
  },
  {
   "cell_type": "code",
   "execution_count": 5,
   "metadata": {},
   "outputs": [],
   "source": [
    "# Input features: thalach and age\n",
    "X = heart[['thalach', 'age']]\n",
    "\n",
    "# Output feature: target\n",
    "y = heart[['target']]\n",
    "\n",
    "# Create training and testing data with 75% training data and 25% testing data\n",
    "X_train, X_test, y_train, y_test = train_test_split(X, y, test_size=0.25, random_state=123)\n",
    "\n",
    "# Scale the input features\n",
    "scaler = StandardScaler()\n",
    "X_train = scaler.fit_transform(X_train)\n",
    "X_test = scaler.transform(X_test)"
   ]
  },
  {
   "cell_type": "code",
   "execution_count": null,
   "metadata": {},
   "outputs": [],
   "source": [
    "# Initialize a support vector classifier with C=0.2 and a maximum of 500 iterations\n",
    "SVC = # Your code here\n",
    "# Fit the support vector classifier according to the training data"
   ]
  },
  {
   "cell_type": "code",
   "execution_count": null,
   "metadata": {},
   "outputs": [],
   "source": [
    "# Evaluate model on testing data\n",
    "score = SVC.score(X_test, np.ravel(y_test))\n",
    "print(np.round(score, 3))\n",
    "\n",
    "# Print the model weights\n",
    "# w0\n",
    "print('w0:', np.round(# Your code here, 3))\n",
    "# w1 and w2\n",
    "print('w1 and w2:', np.round(# Your code here, 3))"
   ]
  },
  {
   "cell_type": "markdown",
   "metadata": {},
   "source": []
  }
 ],
 "metadata": {
  "kernelspec": {
   "display_name": "CSB320_Labs",
   "language": "python",
   "name": "python3"
  },
  "language_info": {
   "codemirror_mode": {
    "name": "ipython",
    "version": 3
   },
   "file_extension": ".py",
   "mimetype": "text/x-python",
   "name": "python",
   "nbconvert_exporter": "python",
   "pygments_lexer": "ipython3",
   "version": "3.10.16"
  }
 },
 "nbformat": 4,
 "nbformat_minor": 2
}

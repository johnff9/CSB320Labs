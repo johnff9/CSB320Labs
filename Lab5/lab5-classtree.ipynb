{
 "cells": [
  {
   "cell_type": "markdown",
   "metadata": {},
   "source": [
    "### Lab 5 - Classification with Decision Trees\n",
    "\n",
    "The mpg.csv dataset contains information on miles per gallon (mpg) and engine size for cars sold from 1970 through 1982.\n",
    "\n",
    "Create a dataframe X containing the features cylinders, weight, and mpg.  \n",
    "Create a dataframe y containing the feature origin.  \n",
    "Initialize and fit a classification tree with max_leaf_nodes=6 to the training data.  \n",
    "Use the classification tree to make predictions for the test data.\n",
    "Create a confusion matrix.  \n",
    "Ex: If the input feature displacement is used instead of cylinders, the output should be:\n",
    "\n",
    "```python\n",
    "\n",
    "|--- feature_0 <= 121.50\n",
    "|   |--- feature_0 <= 97.25\n",
    "|   |   |--- class: japan\n",
    "|   |--- feature_0 >  97.25\n",
    "|   |   |--- feature_0 <= 99.00\n",
    "|   |   |   |--- class: usa\n",
    "|   |   |--- feature_0 >  99.00\n",
    "|   |   |   |--- feature_2 <= 26.50\n",
    "|   |   |   |   |--- class: europe\n",
    "|   |   |   |--- feature_2 >  26.50\n",
    "|   |   |   |   |--- class: japan\n",
    "|--- feature_0 >  121.50\n",
    "|   |--- feature_0 <= 191.00\n",
    "|   |   |--- class: usa\n",
    "|   |--- feature_0 >  191.00\n",
    "|   |   |--- class: usa\n",
    "```\n"
   ]
  },
  {
   "cell_type": "markdown",
   "metadata": {},
   "source": [
    "![My Image](images/lab5-trees-heat.png)\n"
   ]
  },
  {
   "cell_type": "code",
   "execution_count": 6,
   "metadata": {},
   "outputs": [],
   "source": [
    "import pandas as pd\n",
    "import matplotlib.pyplot as plt\n",
    "\n",
    "from sklearn.model_selection import train_test_split\n",
    "from sklearn.tree import DecisionTreeClassifier, export_text\n",
    "from sklearn.metrics import confusion_matrix, ConfusionMatrixDisplay\n"
   ]
  },
  {
   "cell_type": "code",
   "execution_count": null,
   "metadata": {},
   "outputs": [],
   "source": [
    "# Read in the data from mpg.csv and save it as a dataframe called mpg\n",
    "\n",
    "plt.rcParams['figure.dpi'] = 150"
   ]
  },
  {
   "cell_type": "code",
   "execution_count": null,
   "metadata": {},
   "outputs": [],
   "source": [
    "# Create a dataframe X containing cylinders, weight, and mpg\n",
    "# Your code here\n",
    "\n",
    "# Create a dataframe y containing origin\n",
    "# Your code here\n",
    "\n",
    "X_train, X_test, y_train, y_test = train_test_split(X, y, test_size=0.3, random_state=123)\n",
    "\n",
    "# Initialize the tree with `max_leaf_nodes=6`\n",
    "DTC = # Your code here\n",
    "\n",
    "# Fit the tree to the training data\n",
    "# Your code here\n",
    "\n"
   ]
  },
  {
   "cell_type": "markdown",
   "metadata": {},
   "source": []
  }
 ],
 "metadata": {
  "kernelspec": {
   "display_name": "CSB320_Labs",
   "language": "python",
   "name": "python3"
  },
  "language_info": {
   "codemirror_mode": {
    "name": "ipython",
    "version": 3
   },
   "file_extension": ".py",
   "mimetype": "text/x-python",
   "name": "python",
   "nbconvert_exporter": "python",
   "pygments_lexer": "ipython3",
   "version": "3.10.16"
  }
 },
 "nbformat": 4,
 "nbformat_minor": 2
}

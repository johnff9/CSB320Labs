{
 "cells": [
  {
   "cell_type": "markdown",
   "metadata": {},
   "source": [
    "### Lab 5 - Support Vector Regressor\n",
    "\n",
    "The dataset mpg contains information on miles per gallon (mpg) and engine size for cars sold from 1970 through 1982. The dataset has the features mpg, cylinders, displacement, horsepower, weight, acceleration, model_year, origin, and name. Using the file mpg.csv and scikit-learn's SVR() function, fit linear, polynomial, and RBF support vector regressors to predict mpg from a user-defined input feature.\n",
    "\n",
    "Import the correct packages and functions.  \n",
    "Split the data into 75% training data and 25% testing data. Set random_state=123.  \n",
    "Initialize and fit a linear support vector regressor with epsilon=0.2.  \n",
    "Initialize and fit a polynomial support vector regressor with epsilon=0.2, C=0.5, and gamma=0.7.  \n",
    "Initialize and fit an RBF support vector regressor with epsilon=0.2, C=0.5, and gamma=0.7.  \n",
    "Print the coefficient of determination of prediction for each support vector regressor using the score() method.  \n",
    "Ex: If the input feature weight is used, the output should be:\n",
    "\n",
    "Linear model: 0.699  \n",
    "Polynomial model: 0.432  \n",
    "RBF model: 0.709\n"
   ]
  },
  {
   "cell_type": "code",
   "execution_count": null,
   "metadata": {},
   "outputs": [],
   "source": [
    "# Import the necessary packages\n",
    "# Your code here"
   ]
  },
  {
   "cell_type": "code",
   "execution_count": null,
   "metadata": {},
   "outputs": [],
   "source": [
    "# Read in the data from mpg.csv and save it as a dataframe called mpg"
   ]
  },
  {
   "cell_type": "code",
   "execution_count": 13,
   "metadata": {},
   "outputs": [],
   "source": [
    "\n",
    "# User-defined input feature\n",
    "X = mpg[[input()]]\n",
    "\n",
    "# Output feature: mpg\n",
    "y = mpg[['mpg']]\n",
    "\n",
    "# Create training and testing data\n",
    "X_train, X_test, y_train, y_test = train_test_split(X, y, test_size=0.25, random_state=123)\n",
    "\n",
    "# Scale the input features\n",
    "scaler = StandardScaler()\n",
    "X_train = scaler.fit_transform(X_train)\n",
    "X_test = scaler.transform(X_test)\n",
    "y_train = scaler.fit_transform(y_train)\n",
    "y_test = scaler.transform(y_test)\n"
   ]
  },
  {
   "cell_type": "code",
   "execution_count": null,
   "metadata": {},
   "outputs": [],
   "source": [
    "# Initialize and fit a linear svr model to training data with epsilon = 0.2\n",
    "eps = # Your code here\n",
    "svr_lin = # Your code here\n",
    "# Your code here\n",
    "\n",
    "# Initialize and fit an svr model using a poly kernel with epsilon=0.2, C=0.5, and gamma=0.7\n",
    "svr_poly = # Your code here\n",
    "# Your code here\n",
    "\n",
    "# Initialize and fit an svr model using an rbf kernel with epsilon=0.2, C=0.5, and gamma=0.7\n",
    "svr_rbf = # Your code here\n",
    "# Your code here\n"
   ]
  },
  {
   "cell_type": "code",
   "execution_count": null,
   "metadata": {},
   "outputs": [],
   "source": [
    "# Print the coefficients of determination for each model\n",
    "lin_score = # Your code here\n",
    "print('Linear model:', np.round(lin_score, 3))\n",
    "\n",
    "poly_score = # Your code here\n",
    "print('Polynomial model:', np.round(poly_score, 3))\n",
    "\n",
    "rbf_score = # Your code here\n",
    "print('RBF model:', np.round(rbf_score, 3))"
   ]
  }
 ],
 "metadata": {
  "kernelspec": {
   "display_name": "CSB320_Labs",
   "language": "python",
   "name": "python3"
  },
  "language_info": {
   "codemirror_mode": {
    "name": "ipython",
    "version": 3
   },
   "file_extension": ".py",
   "mimetype": "text/x-python",
   "name": "python",
   "nbconvert_exporter": "python",
   "pygments_lexer": "ipython3",
   "version": "3.10.16"
  }
 },
 "nbformat": 4,
 "nbformat_minor": 2
}

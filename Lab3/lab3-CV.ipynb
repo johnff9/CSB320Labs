{
 "cells": [
  {
   "cell_type": "markdown",
   "metadata": {},
   "source": [
    "### Lab 3 - Cross Validation\n",
    "\n",
    "The taxis dataset contains information on taxi journeys during March 2019 in New York City. The data includes time, number of passengers, distance, taxi color, payment method, and trip locations. Use sklearn's cross_validate() function to fit a linear regression model with 15-fold cross-validation.\n",
    "\n",
    "Create dataframe X with features passengers and distance.  \n",
    "Create dataframe y with feature fare.  \n",
    "Split the data into 70% training, 20% validation and 10% testing sets, with random_state = 42.  \n",
    "Initialize a linear regression model.  \n",
    "Fit the model with 15-fold cross-validation to the training data, using 'explained_variance' as the performance metric.  \n",
    "Print the explained variance for each fold.  \n",
    "Ex: If the file taxis_small.csv is used, the output is:\n",
    "\n",
    "Test score: [ 0.73224305 0.99710401 0.07165374 0.99973244 0.77172554 0.63613485\n",
    "0.93052017 -0.96913429 0.51933292 0.99722418 0.95547656 0.34065158\n",
    "0.22046622 0.92815629 0.61043292]\n"
   ]
  },
  {
   "cell_type": "code",
   "execution_count": 30,
   "metadata": {},
   "outputs": [],
   "source": [
    "import numpy as np\n",
    "import pandas as pd\n",
    "from sklearn.model_selection import train_test_split\n",
    "from sklearn.model_selection import cross_validate\n",
    "from sklearn import linear_model\n",
    "from sklearn.linear_model import LinearRegression\n"
   ]
  },
  {
   "cell_type": "code",
   "execution_count": 29,
   "metadata": {},
   "outputs": [],
   "source": [
    "# Read in the data from taxis.csv and save it as a dataframe called taxis\n",
    "taxis = pd.read_csv(\"./data/taxis.csv\")"
   ]
  },
  {
   "cell_type": "code",
   "execution_count": 28,
   "metadata": {},
   "outputs": [],
   "source": [
    "# Create dataframe X with features passengers and distance\n",
    "X = taxis[['passengers', 'distance']]\n",
    "\n",
    "# Create dataframe y with feature fare. \n",
    "y = taxis['fare']\n",
    "\n",
    "# Set aside 10% of instances for testing\n",
    "X_train, X_test, y_train, y_test = train_test_split(X, y, test_size=0.1, random_state=42)\n",
    "\n",
    "# Split training again into 70% training and 20% validation\n",
    "X_train, X_val, y_train, y_val = train_test_split(X_train, y_train, test_size=0.2, random_state=42)\n",
    "\n",
    "# Initialize a linear regression model\n",
    "linRegModel = LinearRegression()"
   ]
  },
  {
   "cell_type": "code",
   "execution_count": 27,
   "metadata": {},
   "outputs": [
    {
     "name": "stdout",
     "output_type": "stream",
     "text": [
      "Test score: [0.81316592 0.78650141 0.94316385 0.88024004 0.9345481  0.87247556\n",
      " 0.84666718 0.951317   0.93600952 0.86929675 0.91900437 0.86719891\n",
      " 0.90550551 0.79581379 0.91729907]\n"
     ]
    }
   ],
   "source": [
    "# Fit the model with 15-fold cross-validation to the training data, \n",
    "# using 'explained_variance' as the performance metric\n",
    "cv_results = cross_validate(linRegModel, X_train, y_train, cv=15, scoring='explained_variance', return_train_score=False)\n",
    "\n",
    "# Print the explained variance for each fold\n",
    "print(\"Test score:\", cv_results['test_score'])"
   ]
  }
 ],
 "metadata": {
  "kernelspec": {
   "display_name": "CSB320",
   "language": "python",
   "name": "python3"
  },
  "language_info": {
   "codemirror_mode": {
    "name": "ipython",
    "version": 3
   },
   "file_extension": ".py",
   "mimetype": "text/x-python",
   "name": "python",
   "nbconvert_exporter": "python",
   "pygments_lexer": "ipython3",
   "version": "3.9.22"
  }
 },
 "nbformat": 4,
 "nbformat_minor": 2
}

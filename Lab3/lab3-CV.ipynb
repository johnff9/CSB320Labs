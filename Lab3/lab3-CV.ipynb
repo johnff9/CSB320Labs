{
 "cells": [
  {
   "cell_type": "markdown",
   "metadata": {},
   "source": [
    "### Lab 3 - Cross Validation\n",
    "\n",
    "The taxis dataset contains information on taxi journeys during March 2019 in New York City. The data includes time, number of passengers, distance, taxi color, payment method, and trip locations. Use sklearn's cross_validate() function to fit a linear regression model with 15-fold cross-validation.\n",
    "\n",
    "Create dataframe X with features passengers and distance.  \n",
    "Create dataframe y with feature fare.  \n",
    "Split the data into 70% training, 20% validation and 10% testing sets, with random_state = 42.  \n",
    "Initialize a linear regression model.  \n",
    "Fit the model with 15-fold cross-validation to the training data, using 'explained_variance' as the performance metric.  \n",
    "Print the explained variance for each fold.  \n",
    "Ex: If the file taxis_small.csv is used, the output is:\n",
    "\n",
    "Test score: [ 0.73224305 0.99710401 0.07165374 0.99973244 0.77172554 0.63613485\n",
    "0.93052017 -0.96913429 0.51933292 0.99722418 0.95547656 0.34065158\n",
    "0.22046622 0.92815629 0.61043292]\n"
   ]
  },
  {
   "cell_type": "markdown",
   "metadata": {},
   "source": []
  },
  {
   "cell_type": "code",
   "execution_count": null,
   "metadata": {},
   "outputs": [],
   "source": [
    "import numpy as np\n",
    "import pandas as pd\n",
    "from sklearn.model_selection import train_test_split\n",
    "from sklearn.model_selection import cross_validate\n",
    "from sklearn import linear_model\n",
    "from sklearn.linear_model import LinearRegression\n"
   ]
  },
  {
   "cell_type": "code",
   "execution_count": null,
   "metadata": {},
   "outputs": [],
   "source": [
    "# Read in the data from taxis.csv and save it as a dataframe called taxis"
   ]
  },
  {
   "cell_type": "code",
   "execution_count": null,
   "metadata": {},
   "outputs": [],
   "source": [
    "# Create dataframe X with features passengers and distance\n",
    "X = # Your code here\n",
    "\n",
    "# Create dataframe y with feature fare. \n",
    "y = # Your code here\n",
    "\n",
    "# Set aside 10% of instances for testing\n",
    "X_train, X_test, y_train, y_test = # Your code here\n",
    "\n",
    "# Split training again into 70% training and 20% validation\n",
    "X_train, X_val, y_train, y_val = # Your code here\n",
    "\n",
    "# Initialize a linear regression model\n",
    "linRegModel = # Your code here"
   ]
  },
  {
   "cell_type": "code",
   "execution_count": null,
   "metadata": {},
   "outputs": [],
   "source": [
    "# Fit the model with 15-fold cross-validation to the training data, \n",
    "# using 'explained_variance' as the performance metric\n",
    "cv_results = # Your code here\n",
    "\n",
    "# Print the explained variance for each fold\n",
    "print(\"Test score:\", # Your code here)"
   ]
  }
 ],
 "metadata": {
  "kernelspec": {
   "display_name": "CSB320_Labs",
   "language": "python",
   "name": "python3"
  },
  "language_info": {
   "name": "python",
   "version": "3.10.16"
  }
 },
 "nbformat": 4,
 "nbformat_minor": 2
}

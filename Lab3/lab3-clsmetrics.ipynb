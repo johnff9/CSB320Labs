{
 "cells": [
  {
   "cell_type": "markdown",
   "metadata": {},
   "source": [
    "### Lab 3 - Classification Metrics\n",
    "\n",
    "The nbaallelo_log.csv file contains data on 126314 NBA games from 1947 to 2015. The dataset includes the features pts, elo_i, win_equiv, and game_result. Using a sample of the csv file nbaallelo_log.csv and scikit-learn's LogisticRegression() function, construct a logistic regression model to classify whether a team will win or lose a game based on the team's elo_i score. Using scikit-learn's metrics module, calculate the various classification metrics for the model.\n",
    "\n",
    "Build a logistic model with default parameters, fit to the input and output features X and y.  \n",
    "Use the model to predict the classification of instances in X.  \n",
    "Calculate the confusion matrix for the model.  \n",
    "Calculate the accuracy for the model.  \n",
    "Calculate the precision for the model.  \n",
    "Calculate the recall for the model.  \n",
    "Calculate kappa for the model.  \n",
    "Ex: If the user-input random state used to take the sample is:\n",
    "\n",
    "123  \n",
    "the output should be:\n",
    "\n",
    "Confusion matrix:  \n",
    " [[158  97]    \n",
    " [122 123]]  \n",
    "Accuracy: 0.562  \n",
    "Precision: 0.559  \n",
    "Recall: 0.502  \n",
    "Kappa: 0.122\n"
   ]
  },
  {
   "cell_type": "code",
   "execution_count": 9,
   "metadata": {},
   "outputs": [],
   "source": [
    "import numpy as np\n",
    "import pandas as pd\n",
    "\n",
    "from sklearn import metrics\n",
    "from sklearn.preprocessing import StandardScaler\n",
    "from sklearn.linear_model import LogisticRegression"
   ]
  },
  {
   "cell_type": "code",
   "execution_count": null,
   "metadata": {},
   "outputs": [],
   "source": [
    "# Input the random state\n",
    "rand = int(input())"
   ]
  },
  {
   "cell_type": "code",
   "execution_count": null,
   "metadata": {},
   "outputs": [],
   "source": [
    "# Load sample set by a user-defined random state into a dataframe. \n",
    "NBA = pd.read_csv(\"../data/nbaallelo_log.csv\").sample(n=500, random_state=rand)"
   ]
  },
  {
   "cell_type": "code",
   "execution_count": null,
   "metadata": {},
   "outputs": [],
   "source": [
    "# Create binary feature for game_result with 0 for L and 1 for W\n",
    "NBA['win'] = NBA['game_result'].replace(to_replace = ['L','W'], value = [int(0), int(1)])\n",
    "\n",
    "# Store relevant columns as variables\n",
    "X = NBA[['elo_i']]\n",
    "y = NBA[['win']]\n",
    "\n",
    "# Build logistic model with default parameters, fit to X and y\n",
    "# Your code here"
   ]
  },
  {
   "cell_type": "code",
   "execution_count": null,
   "metadata": {},
   "outputs": [],
   "source": [
    "# Use the model to predict the classification of instances in X\n",
    "logPredY = # Your code here\n",
    "\n",
    "# Calculate the confusion matrix for the model\n",
    "confMatrix = # Your code here\n",
    "print(\"Confusion matrix:\\n\", confMatrix)\n",
    "\n",
    "# Calculate the accuracy for the model\n",
    "accuracy = # Your code here\n",
    "print(\"Accuracy:\", round(accuracy,3))\n",
    "\n",
    "# Calculate the precision for the model\n",
    "precision = # Your code here\n",
    "print(\"Precision:\", round(precision,3))\n",
    "\n",
    "# Calculate the recall for the model\n",
    "recall = # Your code here\n",
    "print(\"Recall:\", round(recall, 3))\n",
    "\n",
    "# Calculate kappa for the model\n",
    "kappa = # Your code here\n",
    "print(\"Kappa:\", round(kappa, 3))"
   ]
  }
 ],
 "metadata": {
  "kernelspec": {
   "display_name": "CSB320_Labs",
   "language": "python",
   "name": "python3"
  },
  "language_info": {
   "codemirror_mode": {
    "name": "ipython",
    "version": 3
   },
   "file_extension": ".py",
   "mimetype": "text/x-python",
   "name": "python",
   "nbconvert_exporter": "python",
   "pygments_lexer": "ipython3",
   "version": "3.10.16"
  }
 },
 "nbformat": 4,
 "nbformat_minor": 2
}

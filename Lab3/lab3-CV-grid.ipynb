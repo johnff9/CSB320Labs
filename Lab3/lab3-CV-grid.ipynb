{
 "cells": [
  {
   "cell_type": "markdown",
   "metadata": {},
   "source": [
    "### Lab 3 - Cross-Validation Grid\n",
    "\n",
    "The diamond dataset contains the price, cut, color, and other characteristics of a sample of nearly 54,000 diamonds. This data can be used to predict the price of a diamond based on its characteristics. Use sklearn's GridSearchCV() function to train and evaluate an elastic net model over a hyperparameter grid.\n",
    "\n",
    "Create dataframe X with the features carat and depth.  \n",
    "Create dataframe y with the feature price.  \n",
    "Split the data into 80% training and 20% testing sets, with random_state = 42.  \n",
    "Initialize an elastic net model with random_state = 0.  \n",
    "Create a tuning grid with the hyperparameter name alpha and the values 0.1, 0.5, 0.9, 1.0.  \n",
    "Use GridSearchCV() with cv=10 to initialize and fit a tuning grid to the training data.  \n",
    "Print the mean testing score for each fold and the best parameter value.  \n",
    "Ex: If random_state=123 is used to split the data, the output is:\n",
    "\n",
    "Mean testing scores: [0.8487619 0.81653977 0.76847326 0.75584872]  \n",
    "Best estimator: ElasticNet(alpha=0.1, random_state=0)\n"
   ]
  },
  {
   "cell_type": "code",
   "execution_count": 5,
   "metadata": {},
   "outputs": [],
   "source": [
    "import numpy as np\n",
    "import pandas as pd\n",
    "from sklearn.model_selection import train_test_split\n",
    "from sklearn.model_selection import GridSearchCV\n",
    "from sklearn.preprocessing import StandardScaler\n",
    "from sklearn.linear_model import ElasticNet\n"
   ]
  },
  {
   "cell_type": "code",
   "execution_count": null,
   "metadata": {},
   "outputs": [],
   "source": [
    "# Read in the data from diamonds.csv and save it into a dataframe called diamonds"
   ]
  },
  {
   "cell_type": "code",
   "execution_count": null,
   "metadata": {},
   "outputs": [],
   "source": [
    "# Create dataframe X with the features carat and depth\n",
    "X = # Your code here\n",
    "# Create dataframe y with the feature price\n",
    "y = # Your code here\n",
    "\n",
    "# Create training/testing split\n",
    "X_train, X_test, y_train, y_test = # Your code here\n",
    "\n",
    "# Scale the input features\n",
    "scaler = StandardScaler()\n",
    "X_train = scaler.fit_transform(X_train)\n",
    "X_test = scaler.transform(X_test)\n",
    "\n",
    "# Initialize elastic net model\n",
    "ENModel = # Your code here\n",
    "\n",
    "# Create tuning grid\n",
    "alpha = # Your code here\n",
    "\n",
    "# Initialize tuning grid and fit to training data\n",
    "ENTuning = # Your code here\n",
    "# Your code here"
   ]
  },
  {
   "cell_type": "code",
   "execution_count": null,
   "metadata": {},
   "outputs": [],
   "source": [
    "# Mean testing score for each lambda and best model\n",
    "print('Mean testing scores:', # Your code here)\n",
    "print('Best estimator:', # Your code here)"
   ]
  }
 ],
 "metadata": {
  "kernelspec": {
   "display_name": "CSB320_Labs",
   "language": "python",
   "name": "python3"
  },
  "language_info": {
   "codemirror_mode": {
    "name": "ipython",
    "version": 3
   },
   "file_extension": ".py",
   "mimetype": "text/x-python",
   "name": "python",
   "nbconvert_exporter": "python",
   "pygments_lexer": "ipython3",
   "version": "3.10.16"
  }
 },
 "nbformat": 4,
 "nbformat_minor": 2
}

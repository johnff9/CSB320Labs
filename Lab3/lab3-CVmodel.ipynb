{
 "cells": [
  {
   "cell_type": "markdown",
   "metadata": {},
   "source": [
    "### Lab 3 - Cross-Validation Modeling\n",
    "\n",
    "The taxis dataset contains information on taxi journeys during March 2019 in New York City. The data includes time, number of passengers, distance, taxi color, payment method, and trip locations. Use sklearn's cross_validate() function to fit a linear regression model and a k-nearest neighbors regression model with 10-fold cross-validation.\n",
    "\n",
    "Create dataframe X with the feature distance.  \n",
    "Create dataframe y with the feature fare.  \n",
    "Split the data into 80% training, 10% validation and 10% testing sets, with random_state = 42.  \n",
    "Initialize a linear regression model.  \n",
    "Initialize a k-nearest neighbors regression model with k = 3.  \n",
    "Define a set of 10 cross-validation folds with random_state=42.  \n",
    "Fit the models with cross-validation to the training data, using the default performance metric.  \n",
    "For each model, print the test score for each fold, as well as the mean and standard deviation for the model.  \n",
    "Ex: If the file taxis_small.csv is used, the output is:\n",
    "\n",
    "k-nearest neighbor scores: [0.412 0.741 0.708 0.855 0.056 0.974 0.622 0.769 0.754 0.236]  \n",
    "Mean: 0.613  \n",
    "SD: 0.274  \n",
    "Simple linear regression scores: [ 0.603 0.584 0.651 0.956 -0.564 0.941 0.828 -0.294 0.908 0.723]  \n",
    "Mean: 0.534  \n",
    "SD: 0.502\n"
   ]
  },
  {
   "cell_type": "code",
   "execution_count": null,
   "metadata": {},
   "outputs": [],
   "source": [
    "import pandas as pd\n",
    "import numpy as np\n",
    "from sklearn.model_selection import train_test_split\n",
    "from sklearn.model_selection import cross_validate\n",
    "from sklearn.model_selection import KFold\n",
    "from sklearn.neighbors import KNeighborsRegressor\n",
    "from sklearn.linear_model import LinearRegression\n"
   ]
  },
  {
   "cell_type": "code",
   "execution_count": null,
   "metadata": {},
   "outputs": [],
   "source": [
    "# Read in the data from taxis.csv and save it as a dataframe called taxis"
   ]
  },
  {
   "cell_type": "code",
   "execution_count": null,
   "metadata": {},
   "outputs": [],
   "source": [
    "# Create dataframe X with the feature distance\n",
    "X = # Your code here\n",
    "# Create dataframe y with the feature fare\n",
    "y = # Your code here\n",
    "\n",
    "# Set aside 10% of instances for testing\n",
    "# Your code here\n",
    "\n",
    "# Split training again into 80% training and 10% validation\n",
    "# Your code here\n",
    "\n",
    "# Initialize a linear regression model\n",
    "SLRModel = # Your code here\n",
    "# Initialize a k-nearest neighbors regression model with k = 3\n",
    "knnModel = # Your code here\n",
    "\n"
   ]
  },
  {
   "cell_type": "code",
   "execution_count": null,
   "metadata": {},
   "outputs": [],
   "source": [
    "# Define a set of 10 cross-validation folds with random_state=42\n",
    "kf = # Your code here\n",
    "\n",
    "# Fit k-nearest neighbors with cross-validation to the training data\n",
    "knnResults = # Your code here\n",
    "\n",
    "# Find the test score for each fold\n",
    "knnScores = # Your code here\n",
    "print('k-nearest neighbor scores:', knnScores.round(3))\n",
    "\n",
    "# Calculate descriptive statistics for k-nearest neighbor model\n",
    "print('Mean:', knnScores.mean().round(3))\n",
    "print('SD:', knnScores.std().round(3))\n",
    "\n",
    "# Fit simple linear regression with cross-validation to the training data\n",
    "SLRModelResults = # Your code here\n",
    "\n",
    "# Find the test score for each fold\n",
    "SLRScores = # Your code here\n",
    "print('Simple linear regression scores:', SLRScores.round(3))\n",
    "\n",
    "# Calculate descriptive statistics simple linear regression model\n",
    "print('Mean:', SLRScores.mean().round(3))\n",
    "print('SD:', SLRScores.std().round(3))"
   ]
  }
 ],
 "metadata": {
  "kernelspec": {
   "display_name": "CSB320_Labs",
   "language": "python",
   "name": "python3"
  },
  "language_info": {
   "name": "python",
   "version": "3.10.16"
  }
 },
 "nbformat": 4,
 "nbformat_minor": 2
}
